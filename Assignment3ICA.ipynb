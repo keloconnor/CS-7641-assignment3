{
 "cells": [
  {
   "cell_type": "code",
   "execution_count": 18,
   "metadata": {},
   "outputs": [],
   "source": [
    "from __future__ import print_function\n",
    "import time\n",
    "import numpy as np\n",
    "import pandas as pd\n",
    "from sklearn.decomposition import PCA\n",
    "from sklearn.manifold import TSNE\n",
    "%matplotlib inline\n",
    "import matplotlib.pyplot as plt\n",
    "from mpl_toolkits.mplot3d import Axes3D\n",
    "import seaborn as sns\n",
    "import pandas as pd\n",
    "import numpy as np\n",
    "from sklearn.preprocessing import StandardScaler\n",
    "from sklearn.pipeline import Pipeline\n",
    "from matplotlib import cm\n",
    "from sklearn.neural_network import MLPClassifier\n",
    "from sklearn.model_selection import GridSearchCV\n",
    "from sklearn.decomposition import PCA\n",
    "from sklearn import preprocessing\n",
    "from sklearn.decomposition import PCA, FactorAnalysis, FastICA\n",
    "from sklearn.covariance import ShrunkCovariance, LedoitWolf\n",
    "from sklearn.model_selection import cross_val_score\n",
    "from sklearn.model_selection import GridSearchCV\n",
    "from sklearn.metrics import mean_squared_error"
   ]
  },
  {
   "cell_type": "code",
   "execution_count": 19,
   "metadata": {},
   "outputs": [],
   "source": [
    "np.random.seed(44)\n",
    "bank = pd.read_csv(\"~/banking_data.csv\")\n",
    "#bank.head()\n",
    "min_max_scaler = preprocessing.MinMaxScaler()\n",
    "\n",
    "bankX = bank.drop(\"Bankrupt\", 1).copy().values\n",
    "bankY = bank[\"Bankrupt\"].copy().values\n",
    "bank_x_df = bank.drop(\"Bankrupt\",1)\n",
    "\n",
    "bankX = min_max_scaler.fit_transform(bankX)\n",
    "bankX_df = pd.DataFrame(bankX, columns=bank_x_df.columns)"
   ]
  },
  {
   "cell_type": "code",
   "execution_count": 20,
   "metadata": {},
   "outputs": [
    {
     "data": {
      "text/plain": [
       "(6819, 95)"
      ]
     },
     "execution_count": 20,
     "metadata": {},
     "output_type": "execute_result"
    }
   ],
   "source": [
    "bankX.shape\n"
   ]
  },
  {
   "cell_type": "code",
   "execution_count": 5,
   "metadata": {},
   "outputs": [],
   "source": [
    "dims_bank = list(range(2,95,1))"
   ]
  },
  {
   "cell_type": "code",
   "execution_count": 8,
   "metadata": {},
   "outputs": [
    {
     "name": "stderr",
     "output_type": "stream",
     "text": [
      "C:\\Users\\kelle\\anaconda3\\lib\\site-packages\\sklearn\\decomposition\\_fastica.py:118: ConvergenceWarning: FastICA did not converge. Consider increasing tolerance or the maximum number of iterations.\n",
      "  warnings.warn('FastICA did not converge. Consider increasing '\n",
      "C:\\Users\\kelle\\anaconda3\\lib\\site-packages\\sklearn\\decomposition\\_fastica.py:118: ConvergenceWarning: FastICA did not converge. Consider increasing tolerance or the maximum number of iterations.\n",
      "  warnings.warn('FastICA did not converge. Consider increasing '\n",
      "C:\\Users\\kelle\\anaconda3\\lib\\site-packages\\sklearn\\decomposition\\_fastica.py:118: ConvergenceWarning: FastICA did not converge. Consider increasing tolerance or the maximum number of iterations.\n",
      "  warnings.warn('FastICA did not converge. Consider increasing '\n",
      "C:\\Users\\kelle\\anaconda3\\lib\\site-packages\\sklearn\\decomposition\\_fastica.py:118: ConvergenceWarning: FastICA did not converge. Consider increasing tolerance or the maximum number of iterations.\n",
      "  warnings.warn('FastICA did not converge. Consider increasing '\n"
     ]
    },
    {
     "data": {
      "image/png": "[encoded data removed]",
      "text/plain": [
       "<Figure size 432x288 with 1 Axes>"
      ]
     },
     "metadata": {
      "needs_background": "light"
     },
     "output_type": "display_data"
    },
    {
     "name": "stdout",
     "output_type": "stream",
     "text": [
      "Wall time: 1min 6s\n"
     ]
    }
   ],
   "source": [
    "%%time\n",
    "rc_errors = {}\n",
    "for dim in dims_bank:\n",
    "    ica = FastICA(n_components=dim, random_state=44)\n",
    "    x_prime = ica.fit_transform(bankX_df.values)\n",
    "    \n",
    "    A = np.linalg.pinv(ica.components_.T)\n",
    "    reconstructed = np.dot(x_prime, A)\n",
    "    rc_err = mean_squared_error(bankX_df.values, reconstructed)    \n",
    "    rc_errors[dim] = rc_err\n",
    "plt.figure()\n",
    "plt.plot(list(rc_errors.keys()), list(rc_errors.values()))\n",
    "plt.xlabel(\"# of clusters\")\n",
    "plt.ylabel(\"SSE\")\n",
    "plt.show()"
   ]
  },
  {
   "cell_type": "code",
   "execution_count": null,
   "metadata": {},
   "outputs": [],
   "source": []
  },
  {
   "cell_type": "code",
   "execution_count": null,
   "metadata": {},
   "outputs": [],
   "source": []
  },
  {
   "cell_type": "code",
   "execution_count": null,
   "metadata": {},
   "outputs": [],
   "source": []
  },
  {
   "cell_type": "code",
   "execution_count": null,
   "metadata": {},
   "outputs": [],
   "source": []
  },
  {
   "cell_type": "code",
   "execution_count": null,
   "metadata": {},
   "outputs": [],
   "source": []
  },
  {
   "cell_type": "code",
   "execution_count": 21,
   "metadata": {},
   "outputs": [
    {
     "name": "stdout",
     "output_type": "stream",
     "text": [
      "Wall time: 326 ms\n"
     ]
    }
   ],
   "source": [
    "%%time\n",
    "\n",
    "comp = 40\n",
    "ica = FastICA(n_components=comp, random_state=44, max_iter=1000)\n",
    "ica_result = ica.fit_transform(bankX_df.values)\n",
    "for i in range(comp):\n",
    "    field_name = \"ica-\"+str(i)\n",
    "    bankX_df[field_name] = ica_result[:,i]\n",
    "    bank[field_name] = ica_result[:,i]\n",
    "bankX_ica_40 = ica_result"
   ]
  },
  {
   "cell_type": "code",
   "execution_count": 22,
   "metadata": {},
   "outputs": [
    {
     "data": {
      "text/plain": [
       "(6819, 40)"
      ]
     },
     "execution_count": 22,
     "metadata": {},
     "output_type": "execute_result"
    }
   ],
   "source": [
    "ica_result.shape\n"
   ]
  },
  {
   "cell_type": "code",
   "execution_count": 27,
   "metadata": {},
   "outputs": [
    {
     "data": {
      "text/html": [
       "<div>\n",
       "<style scoped>\n",
       "    .dataframe tbody tr th:only-of-type {\n",
       "        vertical-align: middle;\n",
       "    }\n",
       "\n",
       "    .dataframe tbody tr th {\n",
       "        vertical-align: top;\n",
       "    }\n",
       "\n",
       "    .dataframe thead th {\n",
       "        text-align: right;\n",
       "    }\n",
       "</style>\n",
       "<table border=\"1\" class=\"dataframe\">\n",
       "  <thead>\n",
       "    <tr style=\"text-align: right;\">\n",
       "      <th></th>\n",
       "      <th>ROA_C_beforeinterestanddepreciationbeforeinterest</th>\n",
       "      <th>ROA_A_beforeinterestandPRCTaftertax</th>\n",
       "      <th>ROA_B_beforeinterestanddepreciationaftertax</th>\n",
       "      <th>OperatingGrossMargin</th>\n",
       "      <th>RealizedSalesGrossMargin</th>\n",
       "      <th>OperatingProfitRate</th>\n",
       "      <th>Pre-taxnetInterestRate</th>\n",
       "      <th>After-taxnetInterestRate</th>\n",
       "      <th>Non-industryincomeandexpenditure/revenue</th>\n",
       "      <th>Continuousinterestrate_aftertax_</th>\n",
       "      <th>...</th>\n",
       "      <th>ica-70</th>\n",
       "      <th>ica-71</th>\n",
       "      <th>ica-72</th>\n",
       "      <th>ica-73</th>\n",
       "      <th>ica-74</th>\n",
       "      <th>ica-75</th>\n",
       "      <th>ica-76</th>\n",
       "      <th>ica-77</th>\n",
       "      <th>ica-78</th>\n",
       "      <th>ica-79</th>\n",
       "    </tr>\n",
       "  </thead>\n",
       "  <tbody>\n",
       "    <tr>\n",
       "      <th>0</th>\n",
       "      <td>0.370594</td>\n",
       "      <td>0.424389</td>\n",
       "      <td>0.405750</td>\n",
       "      <td>0.601457</td>\n",
       "      <td>0.601457</td>\n",
       "      <td>0.998969</td>\n",
       "      <td>0.796887</td>\n",
       "      <td>0.808809</td>\n",
       "      <td>0.302646</td>\n",
       "      <td>0.780985</td>\n",
       "      <td>...</td>\n",
       "      <td>-0.035220</td>\n",
       "      <td>-0.000183</td>\n",
       "      <td>0.000421</td>\n",
       "      <td>-0.001014</td>\n",
       "      <td>-0.013188</td>\n",
       "      <td>0.011290</td>\n",
       "      <td>0.008532</td>\n",
       "      <td>-0.000206</td>\n",
       "      <td>-0.005123</td>\n",
       "      <td>-0.019638</td>\n",
       "    </tr>\n",
       "    <tr>\n",
       "      <th>1</th>\n",
       "      <td>0.464291</td>\n",
       "      <td>0.538214</td>\n",
       "      <td>0.516730</td>\n",
       "      <td>0.610235</td>\n",
       "      <td>0.610235</td>\n",
       "      <td>0.998946</td>\n",
       "      <td>0.797380</td>\n",
       "      <td>0.809301</td>\n",
       "      <td>0.303556</td>\n",
       "      <td>0.781506</td>\n",
       "      <td>...</td>\n",
       "      <td>-0.001749</td>\n",
       "      <td>0.000193</td>\n",
       "      <td>-0.000072</td>\n",
       "      <td>0.003739</td>\n",
       "      <td>-0.000921</td>\n",
       "      <td>-0.022855</td>\n",
       "      <td>0.006439</td>\n",
       "      <td>0.000373</td>\n",
       "      <td>0.004029</td>\n",
       "      <td>-0.007050</td>\n",
       "    </tr>\n",
       "    <tr>\n",
       "      <th>2</th>\n",
       "      <td>0.426071</td>\n",
       "      <td>0.499019</td>\n",
       "      <td>0.472295</td>\n",
       "      <td>0.601450</td>\n",
       "      <td>0.601364</td>\n",
       "      <td>0.998857</td>\n",
       "      <td>0.796403</td>\n",
       "      <td>0.808388</td>\n",
       "      <td>0.302035</td>\n",
       "      <td>0.780284</td>\n",
       "      <td>...</td>\n",
       "      <td>0.007994</td>\n",
       "      <td>-0.000081</td>\n",
       "      <td>-0.000223</td>\n",
       "      <td>0.020527</td>\n",
       "      <td>-0.001031</td>\n",
       "      <td>0.002777</td>\n",
       "      <td>-0.006786</td>\n",
       "      <td>-0.000545</td>\n",
       "      <td>0.008424</td>\n",
       "      <td>0.015806</td>\n",
       "    </tr>\n",
       "    <tr>\n",
       "      <th>3</th>\n",
       "      <td>0.399844</td>\n",
       "      <td>0.451265</td>\n",
       "      <td>0.457733</td>\n",
       "      <td>0.583541</td>\n",
       "      <td>0.583541</td>\n",
       "      <td>0.998700</td>\n",
       "      <td>0.796967</td>\n",
       "      <td>0.808966</td>\n",
       "      <td>0.303350</td>\n",
       "      <td>0.781241</td>\n",
       "      <td>...</td>\n",
       "      <td>-0.007542</td>\n",
       "      <td>0.000347</td>\n",
       "      <td>0.000268</td>\n",
       "      <td>-0.010483</td>\n",
       "      <td>-0.001434</td>\n",
       "      <td>-0.020128</td>\n",
       "      <td>-0.040668</td>\n",
       "      <td>0.000404</td>\n",
       "      <td>-0.003120</td>\n",
       "      <td>0.000565</td>\n",
       "    </tr>\n",
       "    <tr>\n",
       "      <th>4</th>\n",
       "      <td>0.465022</td>\n",
       "      <td>0.538432</td>\n",
       "      <td>0.522298</td>\n",
       "      <td>0.598783</td>\n",
       "      <td>0.598783</td>\n",
       "      <td>0.998973</td>\n",
       "      <td>0.797366</td>\n",
       "      <td>0.809304</td>\n",
       "      <td>0.303475</td>\n",
       "      <td>0.781550</td>\n",
       "      <td>...</td>\n",
       "      <td>-0.000088</td>\n",
       "      <td>0.000309</td>\n",
       "      <td>0.000143</td>\n",
       "      <td>-0.007507</td>\n",
       "      <td>0.004156</td>\n",
       "      <td>0.008284</td>\n",
       "      <td>0.005020</td>\n",
       "      <td>-0.000225</td>\n",
       "      <td>-0.000961</td>\n",
       "      <td>-0.005234</td>\n",
       "    </tr>\n",
       "  </tbody>\n",
       "</table>\n",
       "<p>5 rows × 175 columns</p>\n",
       "</div>"
      ],
      "text/plain": [
       "   ROA_C_beforeinterestanddepreciationbeforeinterest  \\\n",
       "0                                           0.370594   \n",
       "1                                           0.464291   \n",
       "2                                           0.426071   \n",
       "3                                           0.399844   \n",
       "4                                           0.465022   \n",
       "\n",
       "   ROA_A_beforeinterestandPRCTaftertax  \\\n",
       "0                             0.424389   \n",
       "1                             0.538214   \n",
       "2                             0.499019   \n",
       "3                             0.451265   \n",
       "4                             0.538432   \n",
       "\n",
       "   ROA_B_beforeinterestanddepreciationaftertax  OperatingGrossMargin  \\\n",
       "0                                     0.405750              0.601457   \n",
       "1                                     0.516730              0.610235   \n",
       "2                                     0.472295              0.601450   \n",
       "3                                     0.457733              0.583541   \n",
       "4                                     0.522298              0.598783   \n",
       "\n",
       "   RealizedSalesGrossMargin  OperatingProfitRate  Pre-taxnetInterestRate  \\\n",
       "0                  0.601457             0.998969                0.796887   \n",
       "1                  0.610235             0.998946                0.797380   \n",
       "2                  0.601364             0.998857                0.796403   \n",
       "3                  0.583541             0.998700                0.796967   \n",
       "4                  0.598783             0.998973                0.797366   \n",
       "\n",
       "   After-taxnetInterestRate  Non-industryincomeandexpenditure/revenue  \\\n",
       "0                  0.808809                                  0.302646   \n",
       "1                  0.809301                                  0.303556   \n",
       "2                  0.808388                                  0.302035   \n",
       "3                  0.808966                                  0.303350   \n",
       "4                  0.809304                                  0.303475   \n",
       "\n",
       "   Continuousinterestrate_aftertax_  ...    ica-70    ica-71    ica-72  \\\n",
       "0                          0.780985  ... -0.035220 -0.000183  0.000421   \n",
       "1                          0.781506  ... -0.001749  0.000193 -0.000072   \n",
       "2                          0.780284  ...  0.007994 -0.000081 -0.000223   \n",
       "3                          0.781241  ... -0.007542  0.000347  0.000268   \n",
       "4                          0.781550  ... -0.000088  0.000309  0.000143   \n",
       "\n",
       "     ica-73    ica-74    ica-75    ica-76    ica-77    ica-78    ica-79  \n",
       "0 -0.001014 -0.013188  0.011290  0.008532 -0.000206 -0.005123 -0.019638  \n",
       "1  0.003739 -0.000921 -0.022855  0.006439  0.000373  0.004029 -0.007050  \n",
       "2  0.020527 -0.001031  0.002777 -0.006786 -0.000545  0.008424  0.015806  \n",
       "3 -0.010483 -0.001434 -0.020128 -0.040668  0.000404 -0.003120  0.000565  \n",
       "4 -0.007507  0.004156  0.008284  0.005020 -0.000225 -0.000961 -0.005234  \n",
       "\n",
       "[5 rows x 175 columns]"
      ]
     },
     "execution_count": 27,
     "metadata": {},
     "output_type": "execute_result"
    }
   ],
   "source": [
    "bankX_df.head()"
   ]
  },
  {
   "cell_type": "code",
   "execution_count": 31,
   "metadata": {},
   "outputs": [],
   "source": [
    "rndperm = np.random.permutation(bank.shape[0])"
   ]
  },
  {
   "cell_type": "code",
   "execution_count": 35,
   "metadata": {},
   "outputs": [
    {
     "data": {
      "text/plain": [
       "<AxesSubplot:xlabel='ica-0', ylabel='ica-1'>"
      ]
     },
     "execution_count": 35,
     "metadata": {},
     "output_type": "execute_result"
    },
    {
     "data": {
      "image/png": "[encoded data removed]",
      "text/plain": [
       "<Figure size 1152x720 with 1 Axes>"
      ]
     },
     "metadata": {
      "needs_background": "light"
     },
     "output_type": "display_data"
    }
   ],
   "source": [
    "plt.figure(figsize=(16,10))\n",
    "sns.scatterplot(\n",
    "    x=\"ica-0\", y=\"ica-1\",\n",
    "    hue=\"Bankrupt\",\n",
    "    palette=sns.color_palette(\"hls\", 2),\n",
    "    data=bank,\n",
    "    legend=\"full\",\n",
    "    alpha=0.3\n",
    ")"
   ]
  },
  {
   "cell_type": "code",
   "execution_count": 37,
   "metadata": {},
   "outputs": [
    {
     "data": {
      "image/png": "[encoded data removed]",
      "text/plain": [
       "<Figure size 1152x720 with 1 Axes>"
      ]
     },
     "metadata": {
      "needs_background": "light"
     },
     "output_type": "display_data"
    }
   ],
   "source": [
    "ax = plt.figure(figsize=(16,10)).gca(projection='3d')\n",
    "ax.scatter(\n",
    "    xs=bank.loc[rndperm,:][\"ica-0\"], \n",
    "    ys=bank.loc[rndperm,:][\"ica-1\"], \n",
    "    zs=bank.loc[rndperm,:][\"ica-2\"], \n",
    "    c=bank.loc[rndperm,:][\"Bankrupt\"], \n",
    "    cmap='tab10'\n",
    ")\n",
    "ax.set_xlabel('pca-one')\n",
    "ax.set_ylabel('pca-two')\n",
    "ax.set_zlabel('pca-three')\n",
    "plt.show()"
   ]
  },
  {
   "cell_type": "code",
   "execution_count": 38,
   "metadata": {},
   "outputs": [],
   "source": [
    "from sklearn.cluster import KMeans\n",
    "clusters = list(range(2,31,1))"
   ]
  },
  {
   "cell_type": "code",
   "execution_count": 39,
   "metadata": {},
   "outputs": [
    {
     "name": "stderr",
     "output_type": "stream",
     "text": [
      "C:\\Users\\kelle\\anaconda3\\lib\\site-packages\\sklearn\\cluster\\_kmeans.py:938: FutureWarning: 'n_jobs' was deprecated in version 0.23 and will be removed in 0.25.\n",
      "  warnings.warn(\"'n_jobs' was deprecated in version 0.23 and will be\"\n"
     ]
    },
    {
     "name": "stdout",
     "output_type": "stream",
     "text": [
      "For n_clusters=2, The Silhouette Coefficient is 0.8853819303039313\n",
      "For n_clusters=2, The homogeneity_score is 3.3746887024118834e-05\n"
     ]
    },
    {
     "name": "stderr",
     "output_type": "stream",
     "text": [
      "C:\\Users\\kelle\\anaconda3\\lib\\site-packages\\sklearn\\cluster\\_kmeans.py:938: FutureWarning: 'n_jobs' was deprecated in version 0.23 and will be removed in 0.25.\n",
      "  warnings.warn(\"'n_jobs' was deprecated in version 0.23 and will be\"\n"
     ]
    },
    {
     "name": "stdout",
     "output_type": "stream",
     "text": [
      "For n_clusters=3, The Silhouette Coefficient is 0.0855981796141663\n",
      "For n_clusters=3, The homogeneity_score is 0.0024879960663360817\n"
     ]
    },
    {
     "name": "stderr",
     "output_type": "stream",
     "text": [
      "C:\\Users\\kelle\\anaconda3\\lib\\site-packages\\sklearn\\cluster\\_kmeans.py:938: FutureWarning: 'n_jobs' was deprecated in version 0.23 and will be removed in 0.25.\n",
      "  warnings.warn(\"'n_jobs' was deprecated in version 0.23 and will be\"\n"
     ]
    },
    {
     "name": "stdout",
     "output_type": "stream",
     "text": [
      "For n_clusters=4, The Silhouette Coefficient is 0.0803418977493951\n",
      "For n_clusters=4, The homogeneity_score is 0.0021101573092876342\n"
     ]
    },
    {
     "name": "stderr",
     "output_type": "stream",
     "text": [
      "C:\\Users\\kelle\\anaconda3\\lib\\site-packages\\sklearn\\cluster\\_kmeans.py:938: FutureWarning: 'n_jobs' was deprecated in version 0.23 and will be removed in 0.25.\n",
      "  warnings.warn(\"'n_jobs' was deprecated in version 0.23 and will be\"\n"
     ]
    },
    {
     "name": "stdout",
     "output_type": "stream",
     "text": [
      "For n_clusters=5, The Silhouette Coefficient is 0.08167588426150739\n",
      "For n_clusters=5, The homogeneity_score is 0.01799627807246881\n"
     ]
    },
    {
     "name": "stderr",
     "output_type": "stream",
     "text": [
      "C:\\Users\\kelle\\anaconda3\\lib\\site-packages\\sklearn\\cluster\\_kmeans.py:938: FutureWarning: 'n_jobs' was deprecated in version 0.23 and will be removed in 0.25.\n",
      "  warnings.warn(\"'n_jobs' was deprecated in version 0.23 and will be\"\n"
     ]
    },
    {
     "name": "stdout",
     "output_type": "stream",
     "text": [
      "For n_clusters=6, The Silhouette Coefficient is 0.7055100760179935\n",
      "For n_clusters=6, The homogeneity_score is 0.0006082151072409558\n"
     ]
    },
    {
     "name": "stderr",
     "output_type": "stream",
     "text": [
      "C:\\Users\\kelle\\anaconda3\\lib\\site-packages\\sklearn\\cluster\\_kmeans.py:938: FutureWarning: 'n_jobs' was deprecated in version 0.23 and will be removed in 0.25.\n",
      "  warnings.warn(\"'n_jobs' was deprecated in version 0.23 and will be\"\n"
     ]
    },
    {
     "name": "stdout",
     "output_type": "stream",
     "text": [
      "For n_clusters=7, The Silhouette Coefficient is 0.08225505212350084\n",
      "For n_clusters=7, The homogeneity_score is 0.017630559352170328\n"
     ]
    },
    {
     "name": "stderr",
     "output_type": "stream",
     "text": [
      "C:\\Users\\kelle\\anaconda3\\lib\\site-packages\\sklearn\\cluster\\_kmeans.py:938: FutureWarning: 'n_jobs' was deprecated in version 0.23 and will be removed in 0.25.\n",
      "  warnings.warn(\"'n_jobs' was deprecated in version 0.23 and will be\"\n"
     ]
    },
    {
     "name": "stdout",
     "output_type": "stream",
     "text": [
      "For n_clusters=8, The Silhouette Coefficient is 0.019617739952986154\n",
      "For n_clusters=8, The homogeneity_score is 0.00598519004068427\n"
     ]
    },
    {
     "name": "stderr",
     "output_type": "stream",
     "text": [
      "C:\\Users\\kelle\\anaconda3\\lib\\site-packages\\sklearn\\cluster\\_kmeans.py:938: FutureWarning: 'n_jobs' was deprecated in version 0.23 and will be removed in 0.25.\n",
      "  warnings.warn(\"'n_jobs' was deprecated in version 0.23 and will be\"\n"
     ]
    },
    {
     "name": "stdout",
     "output_type": "stream",
     "text": [
      "For n_clusters=9, The Silhouette Coefficient is 0.02080459354777553\n",
      "For n_clusters=9, The homogeneity_score is 0.006398257818760654\n"
     ]
    },
    {
     "name": "stderr",
     "output_type": "stream",
     "text": [
      "C:\\Users\\kelle\\anaconda3\\lib\\site-packages\\sklearn\\cluster\\_kmeans.py:938: FutureWarning: 'n_jobs' was deprecated in version 0.23 and will be removed in 0.25.\n",
      "  warnings.warn(\"'n_jobs' was deprecated in version 0.23 and will be\"\n"
     ]
    },
    {
     "name": "stdout",
     "output_type": "stream",
     "text": [
      "For n_clusters=10, The Silhouette Coefficient is 0.020441088867416694\n",
      "For n_clusters=10, The homogeneity_score is 0.025084171018657047\n"
     ]
    },
    {
     "name": "stderr",
     "output_type": "stream",
     "text": [
      "C:\\Users\\kelle\\anaconda3\\lib\\site-packages\\sklearn\\cluster\\_kmeans.py:938: FutureWarning: 'n_jobs' was deprecated in version 0.23 and will be removed in 0.25.\n",
      "  warnings.warn(\"'n_jobs' was deprecated in version 0.23 and will be\"\n"
     ]
    },
    {
     "name": "stdout",
     "output_type": "stream",
     "text": [
      "For n_clusters=11, The Silhouette Coefficient is 0.02329747003643511\n",
      "For n_clusters=11, The homogeneity_score is 0.013684331044978602\n"
     ]
    },
    {
     "name": "stderr",
     "output_type": "stream",
     "text": [
      "C:\\Users\\kelle\\anaconda3\\lib\\site-packages\\sklearn\\cluster\\_kmeans.py:938: FutureWarning: 'n_jobs' was deprecated in version 0.23 and will be removed in 0.25.\n",
      "  warnings.warn(\"'n_jobs' was deprecated in version 0.23 and will be\"\n"
     ]
    },
    {
     "name": "stdout",
     "output_type": "stream",
     "text": [
      "For n_clusters=12, The Silhouette Coefficient is 0.07049729245426334\n",
      "For n_clusters=12, The homogeneity_score is 0.01752291475272769\n"
     ]
    },
    {
     "name": "stderr",
     "output_type": "stream",
     "text": [
      "C:\\Users\\kelle\\anaconda3\\lib\\site-packages\\sklearn\\cluster\\_kmeans.py:938: FutureWarning: 'n_jobs' was deprecated in version 0.23 and will be removed in 0.25.\n",
      "  warnings.warn(\"'n_jobs' was deprecated in version 0.23 and will be\"\n"
     ]
    },
    {
     "name": "stdout",
     "output_type": "stream",
     "text": [
      "For n_clusters=13, The Silhouette Coefficient is 0.023493172552149014\n",
      "For n_clusters=13, The homogeneity_score is 0.02853828867637806\n"
     ]
    },
    {
     "name": "stderr",
     "output_type": "stream",
     "text": [
      "C:\\Users\\kelle\\anaconda3\\lib\\site-packages\\sklearn\\cluster\\_kmeans.py:938: FutureWarning: 'n_jobs' was deprecated in version 0.23 and will be removed in 0.25.\n",
      "  warnings.warn(\"'n_jobs' was deprecated in version 0.23 and will be\"\n"
     ]
    },
    {
     "name": "stdout",
     "output_type": "stream",
     "text": [
      "For n_clusters=14, The Silhouette Coefficient is 0.015116946466925244\n",
      "For n_clusters=14, The homogeneity_score is 0.03111839904869555\n"
     ]
    },
    {
     "name": "stderr",
     "output_type": "stream",
     "text": [
      "C:\\Users\\kelle\\anaconda3\\lib\\site-packages\\sklearn\\cluster\\_kmeans.py:938: FutureWarning: 'n_jobs' was deprecated in version 0.23 and will be removed in 0.25.\n",
      "  warnings.warn(\"'n_jobs' was deprecated in version 0.23 and will be\"\n"
     ]
    },
    {
     "name": "stdout",
     "output_type": "stream",
     "text": [
      "For n_clusters=15, The Silhouette Coefficient is 0.07274016252116228\n",
      "For n_clusters=15, The homogeneity_score is 0.02217430852727301\n"
     ]
    },
    {
     "name": "stderr",
     "output_type": "stream",
     "text": [
      "C:\\Users\\kelle\\anaconda3\\lib\\site-packages\\sklearn\\cluster\\_kmeans.py:938: FutureWarning: 'n_jobs' was deprecated in version 0.23 and will be removed in 0.25.\n",
      "  warnings.warn(\"'n_jobs' was deprecated in version 0.23 and will be\"\n"
     ]
    },
    {
     "name": "stdout",
     "output_type": "stream",
     "text": [
      "For n_clusters=16, The Silhouette Coefficient is 0.05044039787466993\n",
      "For n_clusters=16, The homogeneity_score is 0.01896027388779487\n"
     ]
    },
    {
     "name": "stderr",
     "output_type": "stream",
     "text": [
      "C:\\Users\\kelle\\anaconda3\\lib\\site-packages\\sklearn\\cluster\\_kmeans.py:938: FutureWarning: 'n_jobs' was deprecated in version 0.23 and will be removed in 0.25.\n",
      "  warnings.warn(\"'n_jobs' was deprecated in version 0.23 and will be\"\n"
     ]
    },
    {
     "name": "stdout",
     "output_type": "stream",
     "text": [
      "For n_clusters=17, The Silhouette Coefficient is 0.05142322868605803\n",
      "For n_clusters=17, The homogeneity_score is 0.019133821508055385\n"
     ]
    },
    {
     "name": "stderr",
     "output_type": "stream",
     "text": [
      "C:\\Users\\kelle\\anaconda3\\lib\\site-packages\\sklearn\\cluster\\_kmeans.py:938: FutureWarning: 'n_jobs' was deprecated in version 0.23 and will be removed in 0.25.\n",
      "  warnings.warn(\"'n_jobs' was deprecated in version 0.23 and will be\"\n"
     ]
    },
    {
     "name": "stdout",
     "output_type": "stream",
     "text": [
      "For n_clusters=18, The Silhouette Coefficient is 0.052672395189804266\n",
      "For n_clusters=18, The homogeneity_score is 0.01921466729320813\n"
     ]
    },
    {
     "name": "stderr",
     "output_type": "stream",
     "text": [
      "C:\\Users\\kelle\\anaconda3\\lib\\site-packages\\sklearn\\cluster\\_kmeans.py:938: FutureWarning: 'n_jobs' was deprecated in version 0.23 and will be removed in 0.25.\n",
      "  warnings.warn(\"'n_jobs' was deprecated in version 0.23 and will be\"\n"
     ]
    },
    {
     "name": "stdout",
     "output_type": "stream",
     "text": [
      "For n_clusters=19, The Silhouette Coefficient is 0.01754601962746616\n",
      "For n_clusters=19, The homogeneity_score is 0.028180897982507606\n"
     ]
    },
    {
     "name": "stderr",
     "output_type": "stream",
     "text": [
      "C:\\Users\\kelle\\anaconda3\\lib\\site-packages\\sklearn\\cluster\\_kmeans.py:938: FutureWarning: 'n_jobs' was deprecated in version 0.23 and will be removed in 0.25.\n",
      "  warnings.warn(\"'n_jobs' was deprecated in version 0.23 and will be\"\n"
     ]
    },
    {
     "name": "stdout",
     "output_type": "stream",
     "text": [
      "For n_clusters=20, The Silhouette Coefficient is 0.01747533336814824\n",
      "For n_clusters=20, The homogeneity_score is 0.027563291735991445\n"
     ]
    },
    {
     "name": "stderr",
     "output_type": "stream",
     "text": [
      "C:\\Users\\kelle\\anaconda3\\lib\\site-packages\\sklearn\\cluster\\_kmeans.py:938: FutureWarning: 'n_jobs' was deprecated in version 0.23 and will be removed in 0.25.\n",
      "  warnings.warn(\"'n_jobs' was deprecated in version 0.23 and will be\"\n"
     ]
    },
    {
     "name": "stdout",
     "output_type": "stream",
     "text": [
      "For n_clusters=21, The Silhouette Coefficient is 0.03157117441025285\n",
      "For n_clusters=21, The homogeneity_score is 0.02919137435659374\n"
     ]
    },
    {
     "name": "stderr",
     "output_type": "stream",
     "text": [
      "C:\\Users\\kelle\\anaconda3\\lib\\site-packages\\sklearn\\cluster\\_kmeans.py:938: FutureWarning: 'n_jobs' was deprecated in version 0.23 and will be removed in 0.25.\n",
      "  warnings.warn(\"'n_jobs' was deprecated in version 0.23 and will be\"\n"
     ]
    },
    {
     "name": "stdout",
     "output_type": "stream",
     "text": [
      "For n_clusters=22, The Silhouette Coefficient is 0.013262520313117943\n",
      "For n_clusters=22, The homogeneity_score is 0.02534081720853055\n"
     ]
    },
    {
     "name": "stderr",
     "output_type": "stream",
     "text": [
      "C:\\Users\\kelle\\anaconda3\\lib\\site-packages\\sklearn\\cluster\\_kmeans.py:938: FutureWarning: 'n_jobs' was deprecated in version 0.23 and will be removed in 0.25.\n",
      "  warnings.warn(\"'n_jobs' was deprecated in version 0.23 and will be\"\n"
     ]
    },
    {
     "name": "stdout",
     "output_type": "stream",
     "text": [
      "For n_clusters=23, The Silhouette Coefficient is 0.015767725652419618\n",
      "For n_clusters=23, The homogeneity_score is 0.028801852176557858\n"
     ]
    },
    {
     "name": "stderr",
     "output_type": "stream",
     "text": [
      "C:\\Users\\kelle\\anaconda3\\lib\\site-packages\\sklearn\\cluster\\_kmeans.py:938: FutureWarning: 'n_jobs' was deprecated in version 0.23 and will be removed in 0.25.\n",
      "  warnings.warn(\"'n_jobs' was deprecated in version 0.23 and will be\"\n"
     ]
    },
    {
     "name": "stdout",
     "output_type": "stream",
     "text": [
      "For n_clusters=24, The Silhouette Coefficient is 0.007526536839105989\n",
      "For n_clusters=24, The homogeneity_score is 0.03285597083040966\n"
     ]
    },
    {
     "name": "stderr",
     "output_type": "stream",
     "text": [
      "C:\\Users\\kelle\\anaconda3\\lib\\site-packages\\sklearn\\cluster\\_kmeans.py:938: FutureWarning: 'n_jobs' was deprecated in version 0.23 and will be removed in 0.25.\n",
      "  warnings.warn(\"'n_jobs' was deprecated in version 0.23 and will be\"\n"
     ]
    },
    {
     "name": "stdout",
     "output_type": "stream",
     "text": [
      "For n_clusters=25, The Silhouette Coefficient is 0.00924423073196133\n",
      "For n_clusters=25, The homogeneity_score is 0.036180896364263845\n"
     ]
    },
    {
     "name": "stderr",
     "output_type": "stream",
     "text": [
      "C:\\Users\\kelle\\anaconda3\\lib\\site-packages\\sklearn\\cluster\\_kmeans.py:938: FutureWarning: 'n_jobs' was deprecated in version 0.23 and will be removed in 0.25.\n",
      "  warnings.warn(\"'n_jobs' was deprecated in version 0.23 and will be\"\n"
     ]
    },
    {
     "name": "stdout",
     "output_type": "stream",
     "text": [
      "For n_clusters=26, The Silhouette Coefficient is 0.008674474741443453\n",
      "For n_clusters=26, The homogeneity_score is 0.03888482561019578\n"
     ]
    },
    {
     "name": "stderr",
     "output_type": "stream",
     "text": [
      "C:\\Users\\kelle\\anaconda3\\lib\\site-packages\\sklearn\\cluster\\_kmeans.py:938: FutureWarning: 'n_jobs' was deprecated in version 0.23 and will be removed in 0.25.\n",
      "  warnings.warn(\"'n_jobs' was deprecated in version 0.23 and will be\"\n"
     ]
    },
    {
     "name": "stdout",
     "output_type": "stream",
     "text": [
      "For n_clusters=27, The Silhouette Coefficient is 0.01068053691977842\n",
      "For n_clusters=27, The homogeneity_score is 0.042842043623403124\n"
     ]
    },
    {
     "name": "stderr",
     "output_type": "stream",
     "text": [
      "C:\\Users\\kelle\\anaconda3\\lib\\site-packages\\sklearn\\cluster\\_kmeans.py:938: FutureWarning: 'n_jobs' was deprecated in version 0.23 and will be removed in 0.25.\n",
      "  warnings.warn(\"'n_jobs' was deprecated in version 0.23 and will be\"\n"
     ]
    },
    {
     "name": "stdout",
     "output_type": "stream",
     "text": [
      "For n_clusters=28, The Silhouette Coefficient is 0.014978499570123309\n",
      "For n_clusters=28, The homogeneity_score is 0.04499347400667631\n"
     ]
    },
    {
     "name": "stderr",
     "output_type": "stream",
     "text": [
      "C:\\Users\\kelle\\anaconda3\\lib\\site-packages\\sklearn\\cluster\\_kmeans.py:938: FutureWarning: 'n_jobs' was deprecated in version 0.23 and will be removed in 0.25.\n",
      "  warnings.warn(\"'n_jobs' was deprecated in version 0.23 and will be\"\n"
     ]
    },
    {
     "name": "stdout",
     "output_type": "stream",
     "text": [
      "For n_clusters=29, The Silhouette Coefficient is 0.011267027309489905\n",
      "For n_clusters=29, The homogeneity_score is 0.044768927873092106\n"
     ]
    },
    {
     "name": "stderr",
     "output_type": "stream",
     "text": [
      "C:\\Users\\kelle\\anaconda3\\lib\\site-packages\\sklearn\\cluster\\_kmeans.py:938: FutureWarning: 'n_jobs' was deprecated in version 0.23 and will be removed in 0.25.\n",
      "  warnings.warn(\"'n_jobs' was deprecated in version 0.23 and will be\"\n"
     ]
    },
    {
     "name": "stdout",
     "output_type": "stream",
     "text": [
      "For n_clusters=30, The Silhouette Coefficient is 0.010518003860412364\n",
      "For n_clusters=30, The homogeneity_score is 0.046437381613188444\n"
     ]
    },
    {
     "data": {
      "image/png": "[encoded data removed]",
      "text/plain": [
       "<Figure size 432x288 with 1 Axes>"
      ]
     },
     "metadata": {
      "needs_background": "light"
     },
     "output_type": "display_data"
    },
    {
     "name": "stdout",
     "output_type": "stream",
     "text": [
      "Wall time: 1min 24s\n"
     ]
    }
   ],
   "source": [
    "%%time\n",
    "from sklearn.metrics import silhouette_score\n",
    "from sklearn.cluster import KMeans\n",
    "from sklearn.metrics import accuracy_score, homogeneity_score\n",
    "silh = {}\n",
    "homog = {}\n",
    "for cluster in clusters:\n",
    "    kmeans = KMeans(n_clusters=cluster, n_init=50, max_iter=1000, random_state=44, n_jobs=-2).fit(bankX_ica_80)\n",
    "    label = kmeans.labels_\n",
    "    sil_coeff = silhouette_score(bankX_ica_80, label, metric='euclidean')\n",
    "    homog_score = homogeneity_score(bankY, label)\n",
    "    silh[cluster] = sil_coeff\n",
    "    homog[cluster] = homog_score\n",
    "    print(\"For n_clusters={}, The Silhouette Coefficient is {}\".format(cluster, sil_coeff))\n",
    "    print(\"For n_clusters={}, The homogeneity_score is {}\".format(cluster, homog_score))\n",
    "plt.figure()\n",
    "plt.plot(list(silh.keys()), list(silh.values()))\n",
    "plt.xlabel(\"Number of cluster\")\n",
    "plt.ylabel(\"Silhouette Coefficient\")\n",
    "plt.show()"
   ]
  },
  {
   "cell_type": "code",
   "execution_count": 42,
   "metadata": {},
   "outputs": [
    {
     "name": "stdout",
     "output_type": "stream",
     "text": [
      "For n_clusters=2, The Silhouette Coefficient is 0.5423531867648241\n",
      "For n_clusters=2, The homogeneity_score is 0.03496934001977172\n",
      "For n_clusters=2, The log_likelihood score is 327.71107551831085\n",
      "For n_clusters=3, The Silhouette Coefficient is 0.29606989674059137\n",
      "For n_clusters=3, The homogeneity_score is 0.034360050787670265\n",
      "For n_clusters=3, The log_likelihood score is 338.09262209660676\n",
      "For n_clusters=4, The Silhouette Coefficient is 0.2842036645351031\n",
      "For n_clusters=4, The homogeneity_score is 0.038226457709018315\n",
      "For n_clusters=4, The log_likelihood score is 340.58243655724425\n",
      "For n_clusters=5, The Silhouette Coefficient is 0.25033086634791357\n",
      "For n_clusters=5, The homogeneity_score is 0.046294698835398496\n",
      "For n_clusters=5, The log_likelihood score is 344.90992456258795\n",
      "For n_clusters=6, The Silhouette Coefficient is 0.24888095850484604\n",
      "For n_clusters=6, The homogeneity_score is 0.05276060884739283\n",
      "For n_clusters=6, The log_likelihood score is 346.0769364936034\n",
      "For n_clusters=7, The Silhouette Coefficient is -1.9231358184288215e-05\n",
      "For n_clusters=7, The homogeneity_score is 0.08598073924864202\n",
      "For n_clusters=7, The log_likelihood score is 346.81487872235795\n",
      "For n_clusters=8, The Silhouette Coefficient is 0.02848190760539141\n",
      "For n_clusters=8, The homogeneity_score is 0.07036923084896522\n",
      "For n_clusters=8, The log_likelihood score is 349.8063676042077\n",
      "For n_clusters=9, The Silhouette Coefficient is 0.006797018775364371\n",
      "For n_clusters=9, The homogeneity_score is 0.07901360205265553\n",
      "For n_clusters=9, The log_likelihood score is 352.76132471369795\n",
      "For n_clusters=10, The Silhouette Coefficient is 0.020817950306734518\n",
      "For n_clusters=10, The homogeneity_score is 0.1022124194908532\n",
      "For n_clusters=10, The log_likelihood score is 351.3960387645047\n",
      "For n_clusters=11, The Silhouette Coefficient is 0.0032129695271647246\n",
      "For n_clusters=11, The homogeneity_score is 0.11154709553281594\n",
      "For n_clusters=11, The log_likelihood score is 353.9831512274401\n",
      "For n_clusters=12, The Silhouette Coefficient is 0.01134007528599732\n",
      "For n_clusters=12, The homogeneity_score is 0.10580944972871136\n",
      "For n_clusters=12, The log_likelihood score is 352.84133156527923\n",
      "For n_clusters=13, The Silhouette Coefficient is 0.00265053766682957\n",
      "For n_clusters=13, The homogeneity_score is 0.10861695206713194\n",
      "For n_clusters=13, The log_likelihood score is 353.94236337638904\n",
      "For n_clusters=14, The Silhouette Coefficient is 0.0018550270562901537\n",
      "For n_clusters=14, The homogeneity_score is 0.11079421792993166\n",
      "For n_clusters=14, The log_likelihood score is 354.04622003786125\n",
      "For n_clusters=15, The Silhouette Coefficient is 0.00010452705132539269\n",
      "For n_clusters=15, The homogeneity_score is 0.11011188971974192\n",
      "For n_clusters=15, The log_likelihood score is 354.3140474781674\n",
      "For n_clusters=16, The Silhouette Coefficient is -0.04904697833087383\n",
      "For n_clusters=16, The homogeneity_score is 0.1435825704779915\n",
      "For n_clusters=16, The log_likelihood score is 355.3817050432574\n",
      "For n_clusters=17, The Silhouette Coefficient is -0.008722518626020541\n",
      "For n_clusters=17, The homogeneity_score is 0.1588154044849223\n",
      "For n_clusters=17, The log_likelihood score is 355.3521973000264\n",
      "For n_clusters=18, The Silhouette Coefficient is -0.009144434482053447\n",
      "For n_clusters=18, The homogeneity_score is 0.12669349742285985\n",
      "For n_clusters=18, The log_likelihood score is 358.5131082418327\n",
      "For n_clusters=19, The Silhouette Coefficient is -0.008788258306666361\n",
      "For n_clusters=19, The homogeneity_score is 0.12937608389399025\n",
      "For n_clusters=19, The log_likelihood score is 358.59393661161005\n",
      "For n_clusters=20, The Silhouette Coefficient is -0.012840603550947568\n",
      "For n_clusters=20, The homogeneity_score is 0.12431157110899137\n",
      "For n_clusters=20, The log_likelihood score is 359.7442665644695\n",
      "For n_clusters=21, The Silhouette Coefficient is 0.003577322434806326\n",
      "For n_clusters=21, The homogeneity_score is 0.16646164945788336\n",
      "For n_clusters=21, The log_likelihood score is 358.37719648235486\n",
      "For n_clusters=22, The Silhouette Coefficient is -0.0026119069806126833\n",
      "For n_clusters=22, The homogeneity_score is 0.16638745804043975\n",
      "For n_clusters=22, The log_likelihood score is 359.28554295251246\n",
      "For n_clusters=23, The Silhouette Coefficient is -0.0028106246557489303\n",
      "For n_clusters=23, The homogeneity_score is 0.16344309165752943\n",
      "For n_clusters=23, The log_likelihood score is 359.1167366674971\n",
      "For n_clusters=24, The Silhouette Coefficient is -0.0012391944569725367\n",
      "For n_clusters=24, The homogeneity_score is 0.1620482128991093\n",
      "For n_clusters=24, The log_likelihood score is 359.0543487431648\n",
      "For n_clusters=25, The Silhouette Coefficient is -0.0030287586698619588\n",
      "For n_clusters=25, The homogeneity_score is 0.1645996851688967\n",
      "For n_clusters=25, The log_likelihood score is 359.19898880327094\n",
      "For n_clusters=26, The Silhouette Coefficient is -0.0020466009899420645\n",
      "For n_clusters=26, The homogeneity_score is 0.16331819275736392\n",
      "For n_clusters=26, The log_likelihood score is 361.3739050366715\n",
      "For n_clusters=27, The Silhouette Coefficient is -0.002843918408495914\n",
      "For n_clusters=27, The homogeneity_score is 0.1606206461151255\n",
      "For n_clusters=27, The log_likelihood score is 361.38115914726285\n",
      "For n_clusters=28, The Silhouette Coefficient is -0.011973080133977977\n",
      "For n_clusters=28, The homogeneity_score is 0.17200647104159464\n",
      "For n_clusters=28, The log_likelihood score is 362.12103899772524\n",
      "For n_clusters=29, The Silhouette Coefficient is -0.012349644395259082\n",
      "For n_clusters=29, The homogeneity_score is 0.1754265601232688\n",
      "For n_clusters=29, The log_likelihood score is 362.44656127155287\n",
      "For n_clusters=30, The Silhouette Coefficient is -0.029934551862687588\n",
      "For n_clusters=30, The homogeneity_score is 0.1686865004566774\n",
      "For n_clusters=30, The log_likelihood score is 362.73914945672493\n"
     ]
    },
    {
     "data": {
      "image/png": "[encoded data removed]",
      "text/plain": [
       "<Figure size 432x288 with 1 Axes>"
      ]
     },
     "metadata": {
      "needs_background": "light"
     },
     "output_type": "display_data"
    },
    {
     "name": "stdout",
     "output_type": "stream",
     "text": [
      "Wall time: 16min 49s\n"
     ]
    }
   ],
   "source": [
    "%%time\n",
    "from sklearn.mixture import GaussianMixture\n",
    "silh_EM = {}\n",
    "homog_EM = {}\n",
    "log_likelihood_EM = {}\n",
    "for cluster in clusters:\n",
    "    gmm = GaussianMixture(n_components=cluster, max_iter=100, random_state=44, \n",
    "                          n_init=5).fit(bankX_ica_80)\n",
    "    label = gmm.predict(bankX_ica_80)\n",
    "    sil_coeff = silhouette_score(bankX_ica_80, label, metric='euclidean')\n",
    "    homog_score = homogeneity_score(bankY, label)\n",
    "    silh_EM[cluster] = sil_coeff\n",
    "    homog_EM[cluster] = homog_score\n",
    "    log_likelihood_EM[cluster] = gmm.score(bankX_ica_80)\n",
    "    print(\"For n_clusters={}, The Silhouette Coefficient is {}\".format(cluster, sil_coeff))\n",
    "    print(\"For n_clusters={}, The homogeneity_score is {}\".format(cluster, homog_score))\n",
    "    print(\"For n_clusters={}, The log_likelihood score is {}\".format(cluster, log_likelihood_EM[cluster]))\n",
    "\n",
    "    \n",
    "plt.figure()\n",
    "plt.plot(list(silh_EM.keys()), list(silh_EM.values()))\n",
    "plt.xlabel(\"Number of cluster\")\n",
    "plt.ylabel(\"Silhouette Coefficient\")\n",
    "plt.show()"
   ]
  },
  {
   "cell_type": "code",
   "execution_count": 35,
   "metadata": {},
   "outputs": [
    {
     "name": "stdout",
     "output_type": "stream",
     "text": [
      "Wall time: 0 ns\n"
     ]
    }
   ],
   "source": [
    "%%time\n",
    "best_net = MLPClassifier(activation='relu', alpha=0.001, batch_size='auto', beta_1=0.9,\n",
    "              beta_2=0.999, early_stopping=False, epsilon=1e-08,\n",
    "              hidden_layer_sizes=75, learning_rate='constant',\n",
    "              learning_rate_init=0.001, max_fun=15000, max_iter=200,\n",
    "              momentum=0.9, n_iter_no_change=10, nesterovs_momentum=True,\n",
    "              power_t=0.5, random_state=None, shuffle=True, solver='adam',\n",
    "              tol=0.0001, validation_fraction=0.1, verbose=False,\n",
    "              warm_start=False)"
   ]
  },
  {
   "cell_type": "code",
   "execution_count": 32,
   "metadata": {},
   "outputs": [
    {
     "name": "stdout",
     "output_type": "stream",
     "text": [
      "              precision    recall  f1-score   support\n",
      "\n",
      "           0    0.96963   0.99679   0.98302      2178\n",
      "           1    0.41667   0.06849   0.11765        73\n",
      "\n",
      "    accuracy                        0.96668      2251\n",
      "   macro avg    0.69315   0.53264   0.55033      2251\n",
      "weighted avg    0.95170   0.96668   0.95496      2251\n",
      "\n",
      "[[2171    7]\n",
      " [  68    5]]\n"
     ]
    }
   ],
   "source": [
    "from sklearn.metrics import confusion_matrix\n",
    "best_net.fit(X_train, y_train)\n",
    "test_predictions = best_net.predict(X_test)\n",
    "print(classification_report(y_test, test_predictions, digits=5))\n",
    "print(confusion_matrix(y_test, test_predictions))"
   ]
  },
  {
   "cell_type": "code",
   "execution_count": 45,
   "metadata": {},
   "outputs": [
    {
     "data": {
      "text/plain": [
       "(array([0.96100531, 0.96002826, 0.94948106, 0.94110903, 0.95871851,\n",
       "        0.96398575, 0.96398575, 0.95774331, 0.96247137, 0.96992438]),\n",
       " 0.9588452730338843)"
      ]
     },
     "execution_count": 45,
     "metadata": {},
     "output_type": "execute_result"
    }
   ],
   "source": [
    "%time\n",
    "from sklearn.model_selection import cross_val_score\n",
    "scores = cross_val_score(best_net, bankX_ica_40, bankY,\n",
    "                         scoring=\"f1_weighted\", cv=10)\n",
    "scores, scores.mean()"
   ]
  },
  {
   "cell_type": "code",
   "execution_count": 31,
   "metadata": {},
   "outputs": [
    {
     "name": "stdout",
     "output_type": "stream",
     "text": [
      "Wall time: 4.99 ms\n"
     ]
    }
   ],
   "source": [
    "%%time\n",
    "from sklearn.model_selection import train_test_split\n",
    "X_train, X_test, y_train, y_test = train_test_split(bankX_ica_40, \n",
    "                                                    bankY, \n",
    "                                                    test_size=0.33, \n",
    "                                                    random_state=42,\n",
    "                                                    stratify=bankY)"
   ]
  },
  {
   "cell_type": "code",
   "execution_count": 26,
   "metadata": {},
   "outputs": [],
   "source": [
    "# stratified cross validation\n",
    "from sklearn.model_selection import StratifiedKFold\n",
    "from sklearn.base import clone\n",
    "\n",
    "def stratFold(train_X_all, train_y_all, classifier, metric, average=None,\n",
    "              fold=5):\n",
    "    train_metric, val_metric, indices = [], [], []\n",
    "    for m in range(100, len(train_X_all), 100):\n",
    "        train_X = train_X_all[:m]\n",
    "        train_y = train_y_all[:m]\n",
    "        skfolds = StratifiedKFold(n_splits=fold)\n",
    "        metric_list = []\n",
    "        metric_list_train = []\n",
    "        for train_index, test_index in skfolds.split(train_X, train_y):\n",
    "            train_X_folds = train_X[train_index, :]\n",
    "            train_y_folds = train_y[train_index]\n",
    "            test_X_fold = train_X[test_index, :]\n",
    "            test_y_fold = train_y[test_index]\n",
    "            classifier.fit(train_X_folds, train_y_folds)\n",
    "            train_y_folds_pred = classifier.predict(train_X_folds)\n",
    "            test_y_fold_pred = classifier.predict(test_X_fold)\n",
    "            if average:\n",
    "                metric_list.append(metric(test_y_fold, test_y_fold_pred,\n",
    "                                     average=average))\n",
    "                metric_list_train.append(metric(train_y_folds, train_y_folds_pred, \n",
    "                                            average=average))\n",
    "            else:\n",
    "                metric_list.append(metric(test_y_fold, test_y_fold_pred))\n",
    "                metric_list_train.append(metric(train_y_folds, train_y_folds_pred))\n",
    "                \n",
    "        test_avg = sum(metric_list)/len(metric_list)\n",
    "        train_avg = sum(metric_list_train)/len(metric_list_train)\n",
    "        val_metric.append(test_avg)\n",
    "        train_metric.append(train_avg)\n",
    "        indices.append(m)\n",
    "    \n",
    "    return train_metric, val_metric, indices\n",
    "def plot_complexity(train_scores, val_scores, indices, title, inverse_x=True):\n",
    "    plt.plot(indices, train_scores , \"r-+\", linewidth=2, label=\"train\")\n",
    "    plt.plot(indices, val_scores, \"b-+\", linewidth=2, label=\"validation\")\n",
    "    plt.title(title)\n",
    "    plt.legend()\n",
    "    plt.grid(color='gray', linestyle='-', linewidth=0.5, alpha=0.3)\n",
    "    if inverse_x:\n",
    "        plt.gca().invert_xaxis()\n",
    "def plot_learning_curve(train_scores, val_scores, indices, title, inverse_x=False):\n",
    "    plt.plot(indices, train_scores , \"r-+\", linewidth=2, label=\"train\")\n",
    "    plt.plot(indices, val_scores, \"b-+\", linewidth=2, label=\"validation\")\n",
    "    plt.title(title)\n",
    "    plt.legend()\n",
    "    plt.grid(color='gray', linestyle='-', linewidth=0.5, alpha=0.3)\n",
    "    if inverse_x:\n",
    "        plt.gca().invert_xaxis()\n"
   ]
  },
  {
   "cell_type": "code",
   "execution_count": 36,
   "metadata": {},
   "outputs": [
    {
     "name": "stderr",
     "output_type": "stream",
     "text": [
      "C:\\Users\\kelle\\anaconda3\\lib\\site-packages\\sklearn\\model_selection\\_split.py:670: UserWarning: The least populated class in y has only 2 members, which is less than n_splits=5.\n",
      "  warnings.warn((\"The least populated class in y has only %d\"\n"
     ]
    },
    {
     "name": "stdout",
     "output_type": "stream",
     "text": [
      "Wall time: 5min 52s\n"
     ]
    },
    {
     "data": {
      "image/png": "[encoded data removed]",
      "text/plain": [
       "<Figure size 432x288 with 1 Axes>"
      ]
     },
     "metadata": {
      "needs_background": "light"
     },
     "output_type": "display_data"
    }
   ],
   "source": [
    "%%time\n",
    "from sklearn.metrics import f1_score\n",
    "f1_scores = stratFold(X_train, y_train, best_net, f1_score, \n",
    "                      average=\"macro\")\n",
    "plot_learning_curve(f1_scores[0], f1_scores[1], f1_scores[2], \n",
    "                    title=\"macro score learning curve\")"
   ]
  },
  {
   "cell_type": "code",
   "execution_count": 37,
   "metadata": {},
   "outputs": [
    {
     "name": "stdout",
     "output_type": "stream",
     "text": [
      "              precision    recall  f1-score   support\n",
      "\n",
      "           0    0.97004   0.99587   0.98278      2178\n",
      "           1    0.40000   0.08219   0.13636        73\n",
      "\n",
      "    accuracy                        0.96624      2251\n",
      "   macro avg    0.68502   0.53903   0.55957      2251\n",
      "weighted avg    0.95155   0.96624   0.95533      2251\n",
      "\n",
      "[[2169    9]\n",
      " [  67    6]]\n"
     ]
    }
   ],
   "source": [
    "from sklearn.metrics import confusion_matrix\n",
    "best_net.fit(X_train, y_train)\n",
    "test_predictions = best_net.predict(X_test)\n",
    "print(classification_report(y_test, test_predictions, digits=5))\n",
    "print(confusion_matrix(y_test, test_predictions))"
   ]
  },
  {
   "cell_type": "markdown",
   "metadata": {},
   "source": [
    "Compare against assignment #1\n"
   ]
  },
  {
   "cell_type": "code",
   "execution_count": null,
   "metadata": {},
   "outputs": [],
   "source": [
    "%%time\n",
    "best_net = MLPClassifier(activation='relu', alpha=0.001, batch_size='auto', beta_1=0.9,\n",
    "              beta_2=0.999, early_stopping=False, epsilon=1e-08,\n",
    "              hidden_layer_sizes=10, learning_rate='constant',\n",
    "              learning_rate_init=0.001, max_fun=15000, max_iter=200,\n",
    "              momentum=0.9, n_iter_no_change=10, nesterovs_momentum=True,\n",
    "              power_t=0.5, random_state=None, shuffle=True, solver='adam',\n",
    "              tol=0.0001, validation_fraction=0.1, verbose=False,\n",
    "              warm_start=False)"
   ]
  },
  {
   "cell_type": "code",
   "execution_count": null,
   "metadata": {},
   "outputs": [],
   "source": []
  },
  {
   "cell_type": "code",
   "execution_count": null,
   "metadata": {},
   "outputs": [],
   "source": []
  },
  {
   "cell_type": "code",
   "execution_count": null,
   "metadata": {},
   "outputs": [],
   "source": []
  },
  {
   "cell_type": "code",
   "execution_count": null,
   "metadata": {},
   "outputs": [],
   "source": []
  },
  {
   "cell_type": "code",
   "execution_count": null,
   "metadata": {},
   "outputs": [],
   "source": []
  },
  {
   "cell_type": "markdown",
   "metadata": {},
   "source": [
    "HR dataset"
   ]
  },
  {
   "cell_type": "code",
   "execution_count": 11,
   "metadata": {},
   "outputs": [],
   "source": [
    "HR = pd.read_csv(\"~//Documents//Assignment3//HR_data.csv\")\n",
    "HR_orig = pd.read_csv(\"~//Documents//Assignment3//HR_data.csv\")\n",
    "\n",
    "from sklearn.preprocessing import LabelEncoder\n",
    "\n",
    "class MultiColumnLabelEncoder:\n",
    "    def __init__(self,columns = None):\n",
    "        self.columns = columns # array of column names to encode\n",
    "\n",
    "    def fit(self,X,y=None):\n",
    "        return self # not relevant here\n",
    "\n",
    "    def transform(self,X):\n",
    "        '''\n",
    "        Transforms columns of X specified in self.columns using\n",
    "        LabelEncoder(). If no columns specified, transforms all\n",
    "        columns in X.\n",
    "        '''\n",
    "        output = X.copy()\n",
    "        if self.columns is not None:\n",
    "            for col in self.columns:\n",
    "                output[col] = LabelEncoder().fit_transform(output[col])\n",
    "        else:\n",
    "            for colname,col in output.iteritems():\n",
    "                output[colname] = LabelEncoder().fit_transform(col)\n",
    "        return output\n",
    "\n",
    "    def fit_transform(self,X,y=None):\n",
    "        return self.fit(X,y).transform(X)\n",
    "\n",
    "HR['city']=HR['city'].astype(str)\n",
    "HR['gender']=HR['gender'].astype(str)\n",
    "HR['relevent_experience']=HR['relevent_experience'].astype(str)\n",
    "HR['enrolled_university']=HR['enrolled_university'].astype(str)\n",
    "HR['education_level']=HR['education_level'].astype(str)\n",
    "HR['major_discipline']=HR['major_discipline'].astype(str)\n",
    "HR['experience']=HR['experience'].astype(str)\n",
    "HR['company_size']=HR['company_size'].astype(str)\n",
    "HR['company_type']=HR['company_type'].astype(str)\n",
    "HR['last_new_job']=HR['last_new_job'].astype(str)\n",
    "HR = MultiColumnLabelEncoder(columns = ['city','gender','relevent_experience','enrolled_university','education_level','major_discipline','experience','company_size','company_type','last_new_job']).fit_transform(HR)\n"
   ]
  },
  {
   "cell_type": "code",
   "execution_count": 12,
   "metadata": {},
   "outputs": [],
   "source": [
    "hrX = HR.drop(\"target\", 1).copy().values\n",
    "hrY = HR[\"target\"].copy().values\n",
    "hr_x_df = HR.drop(\"target\",1)\n",
    "min_max_scaler = preprocessing.MinMaxScaler()\n",
    "hrX = min_max_scaler.fit_transform(hrX)\n",
    "hrX_df = pd.DataFrame(hrX, columns=hr_x_df.columns)"
   ]
  },
  {
   "cell_type": "code",
   "execution_count": 15,
   "metadata": {},
   "outputs": [],
   "source": [
    "dims_hr = list(range(1,15,1))"
   ]
  },
  {
   "cell_type": "code",
   "execution_count": 16,
   "metadata": {},
   "outputs": [
    {
     "name": "stderr",
     "output_type": "stream",
     "text": [
      "C:\\Users\\kelle\\anaconda3\\lib\\site-packages\\sklearn\\decomposition\\_fastica.py:118: ConvergenceWarning: FastICA did not converge. Consider increasing tolerance or the maximum number of iterations.\n",
      "  warnings.warn('FastICA did not converge. Consider increasing '\n",
      "C:\\Users\\kelle\\anaconda3\\lib\\site-packages\\sklearn\\decomposition\\_fastica.py:118: ConvergenceWarning: FastICA did not converge. Consider increasing tolerance or the maximum number of iterations.\n",
      "  warnings.warn('FastICA did not converge. Consider increasing '\n"
     ]
    },
    {
     "data": {
      "image/png": "[encoded data removed]",
      "text/plain": [
       "<Figure size 432x288 with 1 Axes>"
      ]
     },
     "metadata": {
      "needs_background": "light"
     },
     "output_type": "display_data"
    },
    {
     "name": "stdout",
     "output_type": "stream",
     "text": [
      "Wall time: 2.29 s\n"
     ]
    }
   ],
   "source": [
    "%%time\n",
    "rc_errors = {}\n",
    "for dim in dims_hr:\n",
    "    ica = FastICA(n_components=dim, random_state=44)\n",
    "    x_prime = ica.fit_transform(bankX_df.values)\n",
    "    \n",
    "    A = np.linalg.pinv(ica.components_.T)\n",
    "    reconstructed = np.dot(x_prime, A)\n",
    "    rc_err = mean_squared_error(bankX_df.values, reconstructed)    \n",
    "    rc_errors[dim] = rc_err\n",
    "plt.figure()\n",
    "plt.plot(list(rc_errors.keys()), list(rc_errors.values()))\n",
    "plt.xlabel(\"# of clusters\")\n",
    "plt.ylabel(\"SSE\")\n",
    "plt.show()"
   ]
  },
  {
   "cell_type": "code",
   "execution_count": null,
   "metadata": {},
   "outputs": [],
   "source": []
  }
 ],
 "metadata": {
  "kernelspec": {
   "display_name": "Python 3",
   "language": "python",
   "name": "python3"
  },
  "language_info": {
   "codemirror_mode": {
    "name": "ipython",
    "version": 3
   },
   "file_extension": ".py",
   "mimetype": "text/x-python",
   "name": "python",
   "nbconvert_exporter": "python",
   "pygments_lexer": "ipython3",
   "version": "3.8.5"
  }
 },
 "nbformat": 4,
 "nbformat_minor": 4
}
